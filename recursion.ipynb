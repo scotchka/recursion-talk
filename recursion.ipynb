{
 "cells": [
  {
   "cell_type": "markdown",
   "id": "ab802839",
   "metadata": {
    "slideshow": {
     "slide_type": "slide"
    }
   },
   "source": [
    "# How to think about recursion"
   ]
  },
  {
   "cell_type": "markdown",
   "id": "66199722",
   "metadata": {
    "slideshow": {
     "slide_type": "fragment"
    }
   },
   "source": [
    "1. provide solution for base case\n",
    "2. reduce problem into smaller problem and incremental problem\n",
    "3. solve incremental problem, ASSUMING solution of smaller problem"
   ]
  },
  {
   "cell_type": "markdown",
   "id": "94c4479d",
   "metadata": {
    "slideshow": {
     "slide_type": "slide"
    }
   },
   "source": [
    "# Example: count occurrences of letter in string\n",
    "\n",
    "`count('a', 'abca') -> 2`"
   ]
  },
  {
   "cell_type": "markdown",
   "id": "67288970",
   "metadata": {
    "slideshow": {
     "slide_type": "fragment"
    }
   },
   "source": [
    "1. base case can be empty string: count is 0"
   ]
  },
  {
   "cell_type": "markdown",
   "id": "52407ec7",
   "metadata": {
    "slideshow": {
     "slide_type": "fragment"
    }
   },
   "source": [
    "2. string can be reduced to first letter and the rest of the string\n",
    "\n",
    "`'abca' -> 'a' and 'bca'`"
   ]
  },
  {
   "cell_type": "markdown",
   "id": "d901f0c6",
   "metadata": {
    "slideshow": {
     "slide_type": "fragment"
    }
   },
   "source": [
    "3. assume `'bca'` is solved, add 1 if first letter is `'a'`, otherwise do nothing"
   ]
  },
  {
   "cell_type": "code",
   "execution_count": null,
   "id": "c1876e1c",
   "metadata": {
    "slideshow": {
     "slide_type": "slide"
    }
   },
   "outputs": [],
   "source": [
    "def count(letter, string):\n",
    "    \n",
    "    # step 1: base case\n",
    "    if string == '': # base case\n",
    "        return 0\n",
    "    \n",
    "    # step 2: break down problem\n",
    "    first_letter = string[0] # incremental problem\n",
    "    substring = string[1:] # smaller problem\n",
    "    \n",
    "    # step 3: incremental solution\n",
    "    count_in_substring = count_substring(letter, substring) # assume solution\n",
    "    \n",
    "    if first_letter == letter:\n",
    "        total = count_in_substring + 1\n",
    "    else:\n",
    "        total = count_in_substring + 0\n",
    "        \n",
    "        \n",
    "    return total"
   ]
  },
  {
   "cell_type": "code",
   "execution_count": null,
   "id": "4cbaf76d",
   "metadata": {
    "scrolled": true,
    "slideshow": {
     "slide_type": "fragment"
    }
   },
   "outputs": [],
   "source": [
    "count('a', 'abca')"
   ]
  },
  {
   "cell_type": "markdown",
   "id": "faf74aa6",
   "metadata": {
    "slideshow": {
     "slide_type": "slide"
    }
   },
   "source": [
    "We need to implement the function `count_substring` which counts letter in a string."
   ]
  },
  {
   "cell_type": "markdown",
   "id": "76d33973",
   "metadata": {
    "slideshow": {
     "slide_type": "fragment"
    }
   },
   "source": [
    "But we already have a function that does this, `count`!"
   ]
  },
  {
   "cell_type": "code",
   "execution_count": null,
   "id": "f0181c11",
   "metadata": {
    "slideshow": {
     "slide_type": "fragment"
    }
   },
   "outputs": [],
   "source": [
    "count_substring = count"
   ]
  },
  {
   "cell_type": "code",
   "execution_count": null,
   "id": "88174099",
   "metadata": {
    "slideshow": {
     "slide_type": "fragment"
    }
   },
   "outputs": [],
   "source": [
    "count('a', 'abcaaaa')"
   ]
  },
  {
   "cell_type": "code",
   "execution_count": null,
   "id": "aeecea9c",
   "metadata": {
    "slideshow": {
     "slide_type": "slide"
    }
   },
   "outputs": [],
   "source": [
    "def count(letter, string):\n",
    "    \n",
    "    # step 1: base case\n",
    "    if string == '': # base case\n",
    "        return 0\n",
    "    \n",
    "    # step 2: break down problem\n",
    "    first_letter = string[0] # incremental problem\n",
    "    substring = string[1:] # smaller problem\n",
    "    \n",
    "    # step 3: incremental solution\n",
    "    count_in_substring = count(letter, substring) # assume solution\n",
    "    \n",
    "    if first_letter == letter:\n",
    "        total = count_in_substring + 1\n",
    "    else:\n",
    "        total = count_in_substring + 0\n",
    "        \n",
    "        \n",
    "    return total"
   ]
  },
  {
   "cell_type": "code",
   "execution_count": null,
   "id": "6663de52",
   "metadata": {
    "slideshow": {
     "slide_type": "fragment"
    }
   },
   "outputs": [],
   "source": [
    "count('a', 'abca')"
   ]
  },
  {
   "cell_type": "markdown",
   "id": "fbb51021",
   "metadata": {
    "slideshow": {
     "slide_type": "slide"
    }
   },
   "source": [
    "Why can we assume the smaller problem?"
   ]
  },
  {
   "cell_type": "markdown",
   "id": "7c43530b",
   "metadata": {
    "slideshow": {
     "slide_type": "fragment"
    }
   },
   "source": [
    "* Recursive calls *incrementally* build up to the solution from base case\n",
    "\n",
    "* You only need to specify the incremental solution (e.g. first letter)\n",
    "\n",
    "* This is no different from iteration"
   ]
  },
  {
   "cell_type": "markdown",
   "id": "0c034a50",
   "metadata": {
    "slideshow": {
     "slide_type": "slide"
    }
   },
   "source": [
    "# Example: build balanced binary tree from list"
   ]
  },
  {
   "cell_type": "code",
   "execution_count": null,
   "id": "3a191d4f",
   "metadata": {
    "slideshow": {
     "slide_type": "slide"
    }
   },
   "outputs": [],
   "source": [
    "class Node:\n",
    "    def __init__(self, value, left=None, right=None):\n",
    "        self.value = value\n",
    "        self.left = left\n",
    "        self.right = right\n",
    "        \n",
    "\n",
    "# make_tree(lst) -> root node"
   ]
  },
  {
   "cell_type": "markdown",
   "id": "05a1e313",
   "metadata": {
    "slideshow": {
     "slide_type": "slide"
    }
   },
   "source": [
    "1. base case: empty list -> `None`"
   ]
  },
  {
   "cell_type": "markdown",
   "id": "ffdbace2",
   "metadata": {
    "slideshow": {
     "slide_type": "fragment"
    }
   },
   "source": [
    "2. for balance, divide list into middle item and two halves\n",
    "\n",
    "```\n",
    "mid_idx = len(lst) // 2\n",
    "left_lst = lst[:mid_idx]\n",
    "middle_item = lst[mid_idx]\n",
    "right_lst = lst[mid_idx + 1:]\n",
    "```"
   ]
  },
  {
   "cell_type": "markdown",
   "id": "798befcc",
   "metadata": {
    "slideshow": {
     "slide_type": "fragment"
    }
   },
   "source": [
    "3. assume left tree and right tree, make full tree\n",
    "\n",
    "```\n",
    "left_tree = make_tree(left_lst)\n",
    "right_tree = make_tree(right_list)\n",
    "\n",
    "full_tree = Node(value=middle_item, left=left_tree, right=right_tree)\n",
    "```"
   ]
  },
  {
   "cell_type": "code",
   "execution_count": null,
   "id": "f0e78654",
   "metadata": {
    "slideshow": {
     "slide_type": "slide"
    }
   },
   "outputs": [],
   "source": [
    "def make_tree(lst):\n",
    "    # base case\n",
    "    if lst == []:\n",
    "        return None\n",
    "    \n",
    "    # break down problem\n",
    "    mid_idx = len(lst) // 2\n",
    "    \n",
    "    left_tree = make_tree(lst[:mid_idx])\n",
    "    right_tree = make_tree(lst[mid_idx+1:])\n",
    "    \n",
    "    # incremental solution\n",
    "    tree = Node(lst[mid_idx], left=left_tree, right=right_tree)\n",
    "    return tree"
   ]
  },
  {
   "cell_type": "code",
   "execution_count": null,
   "id": "99e80b44",
   "metadata": {
    "slideshow": {
     "slide_type": "slide"
    }
   },
   "outputs": [],
   "source": [
    "tree = make_tree([1,2,3,4,5,6,7])"
   ]
  },
  {
   "cell_type": "code",
   "execution_count": null,
   "id": "a37ff1d1",
   "metadata": {
    "slideshow": {
     "slide_type": "fragment"
    }
   },
   "outputs": [],
   "source": [
    "tree.value"
   ]
  },
  {
   "cell_type": "code",
   "execution_count": null,
   "id": "8a8be333",
   "metadata": {
    "slideshow": {
     "slide_type": "fragment"
    }
   },
   "outputs": [],
   "source": [
    "tree.left.value"
   ]
  },
  {
   "cell_type": "code",
   "execution_count": null,
   "id": "bc3582a6",
   "metadata": {
    "slideshow": {
     "slide_type": "fragment"
    }
   },
   "outputs": [],
   "source": [
    "tree.right.value"
   ]
  },
  {
   "cell_type": "markdown",
   "id": "2d255dff",
   "metadata": {
    "slideshow": {
     "slide_type": "slide"
    }
   },
   "source": [
    "In order traversal of tree should encounter items in order"
   ]
  },
  {
   "cell_type": "code",
   "execution_count": null,
   "id": "610bd8a6",
   "metadata": {
    "slideshow": {
     "slide_type": "fragment"
    }
   },
   "outputs": [],
   "source": [
    "def traverse(tree):\n",
    "    # base case\n",
    "    if tree is None:\n",
    "        return\n",
    "    \n",
    "    \n",
    "    # break down problem\n",
    "    left = tree.left\n",
    "    right = tree.right\n",
    "    \n",
    "    current_value = tree.value\n",
    "    \n",
    "    traverse(left) # assume smaller problem solved\n",
    "    \n",
    "    print(current_value, end=' ') # incremental solution\n",
    "    \n",
    "    traverse(right) # assume smaller problem solved"
   ]
  },
  {
   "cell_type": "code",
   "execution_count": null,
   "id": "0a274681",
   "metadata": {
    "slideshow": {
     "slide_type": "fragment"
    }
   },
   "outputs": [],
   "source": [
    "tree = make_tree([1,2,3,4,5,6,7])\n",
    "\n",
    "traverse(tree)"
   ]
  },
  {
   "cell_type": "markdown",
   "id": "f81abe27",
   "metadata": {
    "slideshow": {
     "slide_type": "slide"
    }
   },
   "source": [
    "# Example: Fibonacci sequence\n",
    "\n",
    "1, 1, 2, 3, 5, 8, 13 ...\n",
    "\n",
    "Each number is sum of previous two"
   ]
  },
  {
   "cell_type": "code",
   "execution_count": null,
   "id": "d4a0f19b",
   "metadata": {
    "slideshow": {
     "slide_type": "slide"
    }
   },
   "outputs": [],
   "source": [
    "def fib(n):\n",
    "    if n <= 1:\n",
    "        return 1\n",
    "    \n",
    "    return fib(n - 2) + fib(n - 1)\n",
    "\n",
    "for x in range(7):\n",
    "    print(fib(x), end=' ')"
   ]
  },
  {
   "cell_type": "code",
   "execution_count": null,
   "id": "aa0de4d3",
   "metadata": {
    "slideshow": {
     "slide_type": "fragment"
    }
   },
   "outputs": [],
   "source": [
    "%%time\n",
    "fib(34)"
   ]
  },
  {
   "cell_type": "markdown",
   "id": "3a16ab2a",
   "metadata": {
    "slideshow": {
     "slide_type": "slide"
    }
   },
   "source": [
    "Why so slow?"
   ]
  },
  {
   "cell_type": "markdown",
   "id": "e9bc1d37",
   "metadata": {
    "slideshow": {
     "slide_type": "fragment"
    }
   },
   "source": [
    "Because each `fib` calls itself twice, total number of calls doubles with each increasing n"
   ]
  },
  {
   "cell_type": "markdown",
   "id": "a3702846",
   "metadata": {
    "slideshow": {
     "slide_type": "fragment"
    }
   },
   "source": [
    "`2^n` calls, but only `n` unique inputs, so most work is duplicate"
   ]
  },
  {
   "cell_type": "markdown",
   "id": "418dabb1",
   "metadata": {
    "slideshow": {
     "slide_type": "fragment"
    }
   },
   "source": [
    "solution: don't do duplicate work"
   ]
  },
  {
   "cell_type": "code",
   "execution_count": null,
   "id": "5435ee2e",
   "metadata": {
    "slideshow": {
     "slide_type": "slide"
    }
   },
   "outputs": [],
   "source": [
    "cache = {}\n",
    "\n",
    "def fib(n):\n",
    "    if n in cache:\n",
    "        return cache[n]\n",
    "    \n",
    "    if n <= 1:\n",
    "        result = 1\n",
    "    else:\n",
    "        result = fib(n - 2) + fib(n - 1)\n",
    "    \n",
    "    cache[n] = result\n",
    "    return result"
   ]
  },
  {
   "cell_type": "code",
   "execution_count": null,
   "id": "6a38a157",
   "metadata": {
    "slideshow": {
     "slide_type": "fragment"
    }
   },
   "outputs": [],
   "source": [
    "%%time\n",
    "fib(100)"
   ]
  },
  {
   "cell_type": "markdown",
   "id": "f550e3ae",
   "metadata": {
    "slideshow": {
     "slide_type": "fragment"
    }
   },
   "source": [
    "Saving previous results to avoid duplicate work is \"memoization\"."
   ]
  },
  {
   "cell_type": "markdown",
   "id": "23b7ddc7",
   "metadata": {
    "slideshow": {
     "slide_type": "slide"
    }
   },
   "source": [
    "# Example: quick sort\n",
    "\n",
    "* choose an element (pivot) from list\n",
    "* divide rest of list into smaller and greater items\n",
    "* sort those lists\n",
    "* sandwich element in between"
   ]
  },
  {
   "cell_type": "code",
   "execution_count": null,
   "id": "f25fa381",
   "metadata": {
    "slideshow": {
     "slide_type": "slide"
    }
   },
   "outputs": [],
   "source": [
    "def qsort(lst):\n",
    "    \n",
    "    # base case\n",
    "    if lst == []:\n",
    "        return []\n",
    "    \n",
    "    \n",
    "    # break down problem\n",
    "    pivot = lst[0]\n",
    "    rest = lst[1:]\n",
    "    \n",
    "    \n",
    "    smaller = [item for item in rest if item < pivot]\n",
    "    bigger = [item for item in rest if item >= pivot]\n",
    "    \n",
    "    smaller_sorted = qsort(smaller)\n",
    "    bigger_sorted = qsort(bigger)\n",
    "    \n",
    "    # incremental solution\n",
    "    sorted_lst = smaller_sorted + [pivot] + bigger_sorted\n",
    "    \n",
    "    return sorted_lst"
   ]
  },
  {
   "cell_type": "code",
   "execution_count": null,
   "id": "04b8a9ee",
   "metadata": {
    "slideshow": {
     "slide_type": "fragment"
    }
   },
   "outputs": [],
   "source": [
    "from random import randint\n",
    "lst = [randint(-100, 100) for _ in range(10)]\n",
    "lst"
   ]
  },
  {
   "cell_type": "code",
   "execution_count": null,
   "id": "95a34c46",
   "metadata": {
    "slideshow": {
     "slide_type": "fragment"
    }
   },
   "outputs": [],
   "source": [
    "qsort(lst)"
   ]
  },
  {
   "cell_type": "markdown",
   "id": "157c3c43",
   "metadata": {
    "slideshow": {
     "slide_type": "slide"
    }
   },
   "source": [
    "# Recap\n",
    "\n",
    "* Assume solution to smaller problem\n",
    "* Implement incremental solution\n",
    "* Provide base case\n",
    "* NB: we have not mentioned call stack"
   ]
  },
  {
   "cell_type": "code",
   "execution_count": null,
   "id": "58ea590e",
   "metadata": {},
   "outputs": [],
   "source": []
  }
 ],
 "metadata": {
  "celltoolbar": "Slideshow",
  "kernelspec": {
   "display_name": "Python 3 (ipykernel)",
   "language": "python",
   "name": "python3"
  },
  "language_info": {
   "codemirror_mode": {
    "name": "ipython",
    "version": 3
   },
   "file_extension": ".py",
   "mimetype": "text/x-python",
   "name": "python",
   "nbconvert_exporter": "python",
   "pygments_lexer": "ipython3",
   "version": "3.9.7"
  }
 },
 "nbformat": 4,
 "nbformat_minor": 5
}
