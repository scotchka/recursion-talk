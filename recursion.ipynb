{
 "cells": [
  {
   "cell_type": "markdown",
   "id": "ab802839",
   "metadata": {
    "slideshow": {
     "slide_type": "slide"
    }
   },
   "source": [
    "# How to think about recursion"
   ]
  },
  {
   "cell_type": "markdown",
   "id": "66199722",
   "metadata": {
    "slideshow": {
     "slide_type": "fragment"
    }
   },
   "source": [
    "1. provide solution for base case\n",
    "2. reduce problem into smaller problem and incremental problem\n",
    "3. obtain solution of smaller problem with recursive call\n",
    "4. given smaller solution, solve incremental problem"
   ]
  },
  {
   "cell_type": "markdown",
   "id": "94c4479d",
   "metadata": {
    "slideshow": {
     "slide_type": "slide"
    }
   },
   "source": [
    "# Example: count occurrences of letter in string\n",
    "\n",
    "`count('a', 'abca') -> 2`"
   ]
  },
  {
   "cell_type": "markdown",
   "id": "67288970",
   "metadata": {
    "slideshow": {
     "slide_type": "fragment"
    }
   },
   "source": [
    "1. base case can be empty string: count is 0"
   ]
  },
  {
   "cell_type": "markdown",
   "id": "52407ec7",
   "metadata": {
    "slideshow": {
     "slide_type": "fragment"
    }
   },
   "source": [
    "2. `'abca' -> 'a' and 'bca'`"
   ]
  },
  {
   "cell_type": "markdown",
   "id": "918ba140",
   "metadata": {
    "slideshow": {
     "slide_type": "fragment"
    }
   },
   "source": [
    "3. solution to `'bca'` is `count('a', 'bca')`"
   ]
  },
  {
   "cell_type": "markdown",
   "id": "d901f0c6",
   "metadata": {
    "slideshow": {
     "slide_type": "fragment"
    }
   },
   "source": [
    "4. add 1 if first letter is `'a'`, otherwise do nothing"
   ]
  },
  {
   "cell_type": "code",
   "execution_count": 1,
   "id": "c1876e1c",
   "metadata": {
    "slideshow": {
     "slide_type": "slide"
    }
   },
   "outputs": [],
   "source": [
    "def count(letter, string):\n",
    "    \n",
    "    # step 1: base case\n",
    "    if string == '': # base case\n",
    "        return 0\n",
    "    \n",
    "    # step 2: break down problem\n",
    "    first_letter = string[0] # incremental problem\n",
    "    substring = string[1:] # smaller problem\n",
    "    \n",
    "    # step 3: solve smaller problem\n",
    "    count_in_substring = count(letter, substring)\n",
    "    \n",
    "    # step 4: solve incremental problem\n",
    "    if first_letter == letter:\n",
    "        total = count_in_substring + 1\n",
    "    else:\n",
    "        total = count_in_substring + 0\n",
    "        \n",
    "        \n",
    "    return total"
   ]
  },
  {
   "cell_type": "code",
   "execution_count": 2,
   "id": "4cbaf76d",
   "metadata": {
    "scrolled": true,
    "slideshow": {
     "slide_type": "fragment"
    }
   },
   "outputs": [
    {
     "data": {
      "text/plain": [
       "2"
      ]
     },
     "execution_count": 2,
     "metadata": {},
     "output_type": "execute_result"
    }
   ],
   "source": [
    "count('a', 'abca')"
   ]
  },
  {
   "cell_type": "markdown",
   "id": "fbb51021",
   "metadata": {
    "slideshow": {
     "slide_type": "slide"
    }
   },
   "source": [
    "Why does recursive call solve the smaller problem?"
   ]
  },
  {
   "cell_type": "markdown",
   "id": "7c43530b",
   "metadata": {
    "slideshow": {
     "slide_type": "fragment"
    }
   },
   "source": [
    "* Recursive calls *incrementally* build up to the solution from base case\n",
    "\n",
    "* You only need to specify the incremental solution (e.g. first letter)\n",
    "\n",
    "* This is no different from iteration"
   ]
  },
  {
   "cell_type": "markdown",
   "id": "0c034a50",
   "metadata": {
    "slideshow": {
     "slide_type": "slide"
    }
   },
   "source": [
    "# Example: build balanced binary tree from list"
   ]
  },
  {
   "cell_type": "code",
   "execution_count": 3,
   "id": "3a191d4f",
   "metadata": {
    "slideshow": {
     "slide_type": "slide"
    }
   },
   "outputs": [],
   "source": [
    "class Node:\n",
    "    def __init__(self, value, left=None, right=None):\n",
    "        self.value = value\n",
    "        self.left = left\n",
    "        self.right = right\n",
    "        \n",
    "\n",
    "# make_tree(lst) -> root node"
   ]
  },
  {
   "cell_type": "markdown",
   "id": "05a1e313",
   "metadata": {
    "slideshow": {
     "slide_type": "slide"
    }
   },
   "source": [
    "1. base case: empty list -> `None`"
   ]
  },
  {
   "cell_type": "markdown",
   "id": "ffdbace2",
   "metadata": {
    "slideshow": {
     "slide_type": "fragment"
    }
   },
   "source": [
    "2. for balance, divide list into middle item and two halves\n",
    "\n",
    "```\n",
    "mid_idx = len(lst) // 2\n",
    "left_lst = lst[:mid_idx]\n",
    "middle_item = lst[mid_idx]\n",
    "right_lst = lst[mid_idx + 1:]\n",
    "```"
   ]
  },
  {
   "cell_type": "markdown",
   "id": "798befcc",
   "metadata": {
    "slideshow": {
     "slide_type": "fragment"
    }
   },
   "source": [
    "3. make left tree and right tree\n",
    "\n",
    "```\n",
    "left_tree = make_tree(left_lst)\n",
    "right_tree = make_tree(right_list)\n",
    "```"
   ]
  },
  {
   "cell_type": "markdown",
   "id": "472c1f5b",
   "metadata": {
    "slideshow": {
     "slide_type": "fragment"
    }
   },
   "source": [
    "4. given left and right trees, make full tree\n",
    "\n",
    "```\n",
    "full_tree = Node(value=middle_item, left=left_tree, right=right_tree)\n",
    "```"
   ]
  },
  {
   "cell_type": "code",
   "execution_count": 4,
   "id": "f0e78654",
   "metadata": {
    "slideshow": {
     "slide_type": "slide"
    }
   },
   "outputs": [],
   "source": [
    "def make_tree(lst):\n",
    "    # base case\n",
    "    if lst == []:\n",
    "        return None\n",
    "    \n",
    "    # break down problem\n",
    "    mid_idx = len(lst) // 2\n",
    "    \n",
    "    left_tree = make_tree(lst[:mid_idx])\n",
    "    right_tree = make_tree(lst[mid_idx+1:])\n",
    "    \n",
    "    # incremental solution\n",
    "    tree = Node(lst[mid_idx], left=left_tree, right=right_tree)\n",
    "    return tree"
   ]
  },
  {
   "cell_type": "code",
   "execution_count": 5,
   "id": "99e80b44",
   "metadata": {
    "slideshow": {
     "slide_type": "slide"
    }
   },
   "outputs": [],
   "source": [
    "tree = make_tree([1,2,3,4,5,6,7])"
   ]
  },
  {
   "cell_type": "code",
   "execution_count": 6,
   "id": "a37ff1d1",
   "metadata": {
    "slideshow": {
     "slide_type": "fragment"
    }
   },
   "outputs": [
    {
     "data": {
      "text/plain": [
       "4"
      ]
     },
     "execution_count": 6,
     "metadata": {},
     "output_type": "execute_result"
    }
   ],
   "source": [
    "tree.value"
   ]
  },
  {
   "cell_type": "code",
   "execution_count": 7,
   "id": "8a8be333",
   "metadata": {
    "slideshow": {
     "slide_type": "fragment"
    }
   },
   "outputs": [
    {
     "data": {
      "text/plain": [
       "2"
      ]
     },
     "execution_count": 7,
     "metadata": {},
     "output_type": "execute_result"
    }
   ],
   "source": [
    "tree.left.value"
   ]
  },
  {
   "cell_type": "code",
   "execution_count": 8,
   "id": "bc3582a6",
   "metadata": {
    "slideshow": {
     "slide_type": "fragment"
    }
   },
   "outputs": [
    {
     "data": {
      "text/plain": [
       "6"
      ]
     },
     "execution_count": 8,
     "metadata": {},
     "output_type": "execute_result"
    }
   ],
   "source": [
    "tree.right.value"
   ]
  },
  {
   "cell_type": "markdown",
   "id": "2d255dff",
   "metadata": {
    "slideshow": {
     "slide_type": "slide"
    }
   },
   "source": [
    "In order traversal of tree should encounter items in order"
   ]
  },
  {
   "cell_type": "code",
   "execution_count": 9,
   "id": "610bd8a6",
   "metadata": {
    "slideshow": {
     "slide_type": "fragment"
    }
   },
   "outputs": [],
   "source": [
    "def traverse(tree):\n",
    "    # base case\n",
    "    if tree is None:\n",
    "        return\n",
    "    \n",
    "    \n",
    "    # break down problem\n",
    "    left = tree.left\n",
    "    right = tree.right\n",
    "    \n",
    "    current_value = tree.value\n",
    "    \n",
    "    traverse(left) # solve smaller problem\n",
    "    \n",
    "    print(current_value, end=' ') # incremental solution\n",
    "    \n",
    "    traverse(right) # solve smaller problem"
   ]
  },
  {
   "cell_type": "code",
   "execution_count": 10,
   "id": "0a274681",
   "metadata": {
    "slideshow": {
     "slide_type": "fragment"
    }
   },
   "outputs": [
    {
     "name": "stdout",
     "output_type": "stream",
     "text": [
      "1 2 3 4 5 6 7 "
     ]
    }
   ],
   "source": [
    "tree = make_tree([1,2,3,4,5,6,7])\n",
    "\n",
    "traverse(tree)"
   ]
  },
  {
   "cell_type": "markdown",
   "id": "f81abe27",
   "metadata": {
    "slideshow": {
     "slide_type": "slide"
    }
   },
   "source": [
    "# Example: Fibonacci sequence\n",
    "\n",
    "1, 1, 2, 3, 5, 8, 13 ...\n",
    "\n",
    "Each number is sum of previous two"
   ]
  },
  {
   "cell_type": "code",
   "execution_count": 11,
   "id": "d4a0f19b",
   "metadata": {
    "slideshow": {
     "slide_type": "slide"
    }
   },
   "outputs": [
    {
     "name": "stdout",
     "output_type": "stream",
     "text": [
      "1 1 2 3 5 8 13 "
     ]
    }
   ],
   "source": [
    "def fib(n):\n",
    "    if n <= 1:\n",
    "        return 1\n",
    "    \n",
    "    return fib(n - 2) + fib(n - 1)\n",
    "\n",
    "for x in range(7):\n",
    "    print(fib(x), end=' ')"
   ]
  },
  {
   "cell_type": "code",
   "execution_count": 12,
   "id": "aa0de4d3",
   "metadata": {
    "slideshow": {
     "slide_type": "fragment"
    }
   },
   "outputs": [
    {
     "name": "stdout",
     "output_type": "stream",
     "text": [
      "CPU times: user 1.95 s, sys: 7.43 ms, total: 1.95 s\n",
      "Wall time: 1.95 s\n"
     ]
    },
    {
     "data": {
      "text/plain": [
       "9227465"
      ]
     },
     "execution_count": 12,
     "metadata": {},
     "output_type": "execute_result"
    }
   ],
   "source": [
    "%%time\n",
    "fib(34)"
   ]
  },
  {
   "cell_type": "markdown",
   "id": "3a16ab2a",
   "metadata": {
    "slideshow": {
     "slide_type": "slide"
    }
   },
   "source": [
    "Why so slow?"
   ]
  },
  {
   "cell_type": "markdown",
   "id": "e9bc1d37",
   "metadata": {
    "slideshow": {
     "slide_type": "fragment"
    }
   },
   "source": [
    "Because each `fib` calls itself twice, total number of calls doubles with each increasing n"
   ]
  },
  {
   "cell_type": "markdown",
   "id": "a3702846",
   "metadata": {
    "slideshow": {
     "slide_type": "fragment"
    }
   },
   "source": [
    "`2^n` calls, but only `n` unique inputs, so most work is duplicate"
   ]
  },
  {
   "cell_type": "markdown",
   "id": "418dabb1",
   "metadata": {
    "slideshow": {
     "slide_type": "fragment"
    }
   },
   "source": [
    "solution: don't do duplicate work"
   ]
  },
  {
   "cell_type": "code",
   "execution_count": 13,
   "id": "5435ee2e",
   "metadata": {
    "slideshow": {
     "slide_type": "slide"
    }
   },
   "outputs": [],
   "source": [
    "cache = {}\n",
    "\n",
    "def fib(n):\n",
    "    if n in cache:\n",
    "        return cache[n]\n",
    "    \n",
    "    if n <= 1:\n",
    "        result = 1\n",
    "    else:\n",
    "        result = fib(n - 2) + fib(n - 1)\n",
    "    \n",
    "    cache[n] = result\n",
    "    return result"
   ]
  },
  {
   "cell_type": "code",
   "execution_count": 14,
   "id": "6a38a157",
   "metadata": {
    "slideshow": {
     "slide_type": "fragment"
    }
   },
   "outputs": [
    {
     "name": "stdout",
     "output_type": "stream",
     "text": [
      "CPU times: user 49 µs, sys: 5 µs, total: 54 µs\n",
      "Wall time: 56 µs\n"
     ]
    },
    {
     "data": {
      "text/plain": [
       "573147844013817084101"
      ]
     },
     "execution_count": 14,
     "metadata": {},
     "output_type": "execute_result"
    }
   ],
   "source": [
    "%%time\n",
    "fib(100)"
   ]
  },
  {
   "cell_type": "markdown",
   "id": "f550e3ae",
   "metadata": {
    "slideshow": {
     "slide_type": "fragment"
    }
   },
   "source": [
    "Saving previous results to avoid duplicate work is \"memoization\"."
   ]
  },
  {
   "cell_type": "markdown",
   "id": "23b7ddc7",
   "metadata": {
    "slideshow": {
     "slide_type": "slide"
    }
   },
   "source": [
    "# Example: quick sort\n",
    "\n",
    "* choose an element (pivot) from list\n",
    "* divide rest of list into smaller and greater items\n",
    "* sort those lists\n",
    "* sandwich element in between"
   ]
  },
  {
   "cell_type": "code",
   "execution_count": 15,
   "id": "f25fa381",
   "metadata": {
    "slideshow": {
     "slide_type": "slide"
    }
   },
   "outputs": [],
   "source": [
    "def qsort(lst):\n",
    "    \n",
    "    # base case\n",
    "    if lst == []:\n",
    "        return []\n",
    "    \n",
    "    \n",
    "    # break down problem\n",
    "    pivot = lst[0]\n",
    "    rest = lst[1:]\n",
    "    \n",
    "    \n",
    "    smaller = [item for item in rest if item < pivot]\n",
    "    bigger = [item for item in rest if item >= pivot]\n",
    "    \n",
    "    # solve smaller problems\n",
    "    smaller_sorted = qsort(smaller)\n",
    "    bigger_sorted = qsort(bigger)\n",
    "    \n",
    "    # incremental solution\n",
    "    sorted_lst = smaller_sorted + [pivot] + bigger_sorted\n",
    "    \n",
    "    return sorted_lst"
   ]
  },
  {
   "cell_type": "code",
   "execution_count": 16,
   "id": "04b8a9ee",
   "metadata": {
    "slideshow": {
     "slide_type": "fragment"
    }
   },
   "outputs": [
    {
     "data": {
      "text/plain": [
       "[-25, -3, -36, 88, 55, 53, 65, 58, -51, -39]"
      ]
     },
     "execution_count": 16,
     "metadata": {},
     "output_type": "execute_result"
    }
   ],
   "source": [
    "from random import randint\n",
    "lst = [randint(-100, 100) for _ in range(10)]\n",
    "lst"
   ]
  },
  {
   "cell_type": "code",
   "execution_count": 17,
   "id": "95a34c46",
   "metadata": {
    "slideshow": {
     "slide_type": "fragment"
    }
   },
   "outputs": [
    {
     "data": {
      "text/plain": [
       "[-51, -39, -36, -25, -3, 53, 55, 58, 65, 88]"
      ]
     },
     "execution_count": 17,
     "metadata": {},
     "output_type": "execute_result"
    }
   ],
   "source": [
    "qsort(lst)"
   ]
  },
  {
   "cell_type": "markdown",
   "id": "157c3c43",
   "metadata": {
    "slideshow": {
     "slide_type": "slide"
    }
   },
   "source": [
    "# Recap\n",
    "\n",
    "* Obtain solution to smaller problem by recursive call\n",
    "* Implement incremental solution\n",
    "* Provide base case\n",
    "* NB: we have not mentioned call stack"
   ]
  },
  {
   "cell_type": "code",
   "execution_count": null,
   "id": "58ea590e",
   "metadata": {},
   "outputs": [],
   "source": []
  }
 ],
 "metadata": {
  "celltoolbar": "Slideshow",
  "kernelspec": {
   "display_name": "Python 3 (ipykernel)",
   "language": "python",
   "name": "python3"
  },
  "language_info": {
   "codemirror_mode": {
    "name": "ipython",
    "version": 3
   },
   "file_extension": ".py",
   "mimetype": "text/x-python",
   "name": "python",
   "nbconvert_exporter": "python",
   "pygments_lexer": "ipython3",
   "version": "3.9.7"
  }
 },
 "nbformat": 4,
 "nbformat_minor": 5
}
