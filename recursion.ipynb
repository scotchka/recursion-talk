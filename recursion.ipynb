{
 "cells": [
  {
   "cell_type": "markdown",
   "id": "ab802839",
   "metadata": {
    "slideshow": {
     "slide_type": "slide"
    }
   },
   "source": [
    "# How to think about recursion"
   ]
  },
  {
   "cell_type": "markdown",
   "id": "66199722",
   "metadata": {
    "slideshow": {
     "slide_type": "fragment"
    }
   },
   "source": [
    "1. break down problem\n",
    "2. remove first character from a string, get a smaller string\n",
    "3. string -> string[0] + string[1:]"
   ]
  },
  {
   "cell_type": "markdown",
   "id": "94c4479d",
   "metadata": {
    "slideshow": {
     "slide_type": "slide"
    }
   },
   "source": [
    "`count(letter='a', string='abca') -> 2`"
   ]
  },
  {
   "cell_type": "code",
   "execution_count": 10,
   "id": "236723ee",
   "metadata": {},
   "outputs": [],
   "source": [
    "def count(letter, string):\n",
    "    if string == '':\n",
    "        return 0\n",
    "    \n",
    "    if string[0] == letter:\n",
    "        increment = 1\n",
    "    else:\n",
    "        increment = 0\n",
    "        \n",
    "    total = increment + count(letter, string[1:])\n",
    "    return total"
   ]
  },
  {
   "cell_type": "code",
   "execution_count": 11,
   "id": "55109271",
   "metadata": {},
   "outputs": [
    {
     "data": {
      "text/plain": [
       "2"
      ]
     },
     "execution_count": 11,
     "metadata": {},
     "output_type": "execute_result"
    }
   ],
   "source": []
  },
  {
   "cell_type": "code",
   "execution_count": null,
   "id": "a517ac5a",
   "metadata": {},
   "outputs": [],
   "source": []
  }
 ],
 "metadata": {
  "celltoolbar": "Slideshow",
  "kernelspec": {
   "display_name": "Python 3 (ipykernel)",
   "language": "python",
   "name": "python3"
  },
  "language_info": {
   "codemirror_mode": {
    "name": "ipython",
    "version": 3
   },
   "file_extension": ".py",
   "mimetype": "text/x-python",
   "name": "python",
   "nbconvert_exporter": "python",
   "pygments_lexer": "ipython3",
   "version": "3.7.5"
  }
 },
 "nbformat": 4,
 "nbformat_minor": 5
}
